{
 "cells": [
  {
   "cell_type": "code",
   "execution_count": 1,
   "id": "2d8366c0",
   "metadata": {},
   "outputs": [
    {
     "data": {
      "text/html": [
       "<div id=\"glowscript\" class=\"glowscript\"></div>"
      ],
      "text/plain": [
       "<IPython.core.display.HTML object>"
      ]
     },
     "metadata": {},
     "output_type": "display_data"
    },
    {
     "data": {
      "application/javascript": [
       "if (typeof Jupyter !== \"undefined\") { window.__context = { glowscript_container: $(\"#glowscript\").removeAttr(\"id\")};}else{ element.textContent = ' ';}"
      ],
      "text/plain": [
       "<IPython.core.display.Javascript object>"
      ]
     },
     "metadata": {},
     "output_type": "display_data"
    }
   ],
   "source": [
    "from vpython import *\n"
   ]
  },
  {
   "cell_type": "code",
   "execution_count": 3,
   "id": "8b984f47",
   "metadata": {},
   "outputs": [
    {
     "data": {
      "text/html": [
       "<div id=\"glowscript\" class=\"glowscript\"></div>"
      ],
      "text/plain": [
       "<IPython.core.display.HTML object>"
      ]
     },
     "metadata": {},
     "output_type": "display_data"
    },
    {
     "data": {
      "application/javascript": [
       "if (typeof Jupyter !== \"undefined\") { window.__context = { glowscript_container: $(\"#glowscript\").removeAttr(\"id\")};}else{ element.textContent = ' ';}"
      ],
      "text/plain": [
       "<IPython.core.display.Javascript object>"
      ]
     },
     "metadata": {},
     "output_type": "display_data"
    }
   ],
   "source": [
    "scene = canvas(width=800, height=600, title='Dipolo en campo uniforme')\n",
    "\n",
    "ele = 0.05\n",
    "theta = pi/4\n",
    "\n",
    "k = 8.99e9   # constante de Coulomb\n",
    "q1 = 3e-6    # carga positiva en coulombs\n",
    "q2 = -3e-6   # carga negativa en coulombs\n",
    "m = 0.01     # masa del dipolo\n",
    "E0 = 1e-5    # magnitud del campo constante\n",
    "\n",
    "p = ele * q1 # magnitud del dipolo eléctrico\n",
    "\n",
    "r1 = vector((ele/2)*cos(theta), (ele/2)*sin(theta), 0)   # carga positva\n",
    "r2 = vector(-(ele/2)*cos(theta), -(ele/2)*sin(theta), 0) # carga negativa\n",
    "\n",
    "\n",
    "q1 = sphere(pos=r1, radius = 0.005, color=color.red)\n",
    "q2 = sphere(pos=r2, radius = 0.005, color=color.blue)\n",
    "line = cylinder(pos=r1, radius=0.0015, axis=r2, color=color.white)\n",
    "\n",
    "# placas\n",
    "box(pos=vector(-ele*2,0,0), size=vector(0.005,0.1,0.1), color=color.red)\n",
    "box(pos=vector(ele*2,0,0), size=vector(0.005,0.1,0.1), color=color.blue)\n",
    "# lineas de campo\n",
    "arrow(pos=vector(-ele*2,0.04,0), radius=0.0009, axis=2*vector(ele*2-0.0002,0,0), color=color.yellow, \n",
    "      shaftwidth=0.001, headwidth=0.005, headlength=0.01, opacity=0.5)\n",
    "arrow(pos=vector(-ele*2,0.04,-0.035), radius=0.0009, axis=2*vector(ele*2-0.0002,0,0), color=color.yellow, \n",
    "      shaftwidth=0.001, headwidth=0.005, headlength=0.01, opacity=0.5)\n",
    "arrow(pos=vector(-ele*2,0.04,0.035), radius=0.0009, axis=2*vector(ele*2-0.0002,0,0), color=color.yellow, \n",
    "      shaftwidth=0.001, headwidth=0.005, headlength=0.01, opacity=0.5)\n",
    "arrow(pos=vector(-ele*2,-0.04,0), radius=0.0009, axis=2*vector(ele*2-0.0002,0,0), color=color.yellow, \n",
    "      shaftwidth=0.001, headwidth=0.005, headlength=0.01, opacity=0.5)\n",
    "arrow(pos=vector(-ele*2,-0.04,-0.035), radius=0.0009, axis=2*vector(ele*2-0.0002,0,0), color=color.yellow, \n",
    "      shaftwidth=0.001, headwidth=0.005, headlength=0.01, opacity=0.5)\n",
    "arrow(pos=vector(-ele*2,-0.04,0.035), radius=0.0009, axis=2*vector(ele*2-0.0002,0,0), color=color.yellow, \n",
    "      shaftwidth=0.001, headwidth=0.005, headlength=0.01, opacity=0.5)\n",
    "\n",
    "dt = 100  # tiempo en pasos\n",
    "t_max = dt*215\n",
    "t = 0        # iniciar el tiempo\n",
    "\n",
    "while t < t_max:\n",
    "    rate(80)\n",
    "    \n",
    "    dtheta = (dt**2 * 6 * p * E0 ) / (m * ele**2)\n",
    "    theta -= dtheta\n",
    "    \n",
    "    q1.pos = vector((ele/2)*cos(theta), (ele/2)*sin(theta), 0)\n",
    "    q2.pos = vector(-(ele/2)*cos(theta), -(ele/2)*sin(theta),0)\n",
    "    line.pos = q1.pos\n",
    "    line.axis = 2*q2.pos\n",
    "\n",
    "    t = t + dt"
   ]
  },
  {
   "cell_type": "code",
   "execution_count": 3,
   "id": "57dc9679",
   "metadata": {},
   "outputs": [
    {
     "data": {
      "text/html": [
       "<div id=\"glowscript\" class=\"glowscript\"></div>"
      ],
      "text/plain": [
       "<IPython.core.display.HTML object>"
      ]
     },
     "metadata": {},
     "output_type": "display_data"
    },
    {
     "data": {
      "application/javascript": [
       "if (typeof Jupyter !== \"undefined\") { window.__context = { glowscript_container: $(\"#glowscript\").removeAttr(\"id\")};}else{ element.textContent = ' ';}"
      ],
      "text/plain": [
       "<IPython.core.display.Javascript object>"
      ]
     },
     "metadata": {},
     "output_type": "display_data"
    }
   ],
   "source": [
    "from vpython import *\n",
    "import numpy as np\n",
    "\n",
    "scene2 = canvas(width=800, height=600, title='Dipolo en campo uniforme')\n",
    "\n",
    "# Assign constants\n",
    "charge = 1\n",
    "distance = 1\n",
    "k = 8.99 * 10 ** 9\n",
    "\n",
    "# Making the particles\n",
    "positive_part = sphere(pos=vector(0, 0, 0), q=1, radius=0.2, color=color.cyan)\n",
    "\n",
    "negative_part = sphere(pos=vector(1, 0, 0), q=-1, radius=0.2, color=color.yellow)\n",
    "\n",
    "# # Step 10 - Move y position of dipole particles\n",
    "# positive_part.pos.y = 2\n",
    "# negative_part.pos.y = 2\n",
    "\n",
    "# Steps 3-6\n",
    "# test_particle = sphere(pos=vector(3,4,0), radius=0.1)\n",
    "#\n",
    "# # Calculate distance\n",
    "# r_pos = test_particle.pos - positive_part.pos\n",
    "# r_neg = test_particle.pos - negative_part.pos\n",
    "#\n",
    "# # Calculate electric field\n",
    "# elec_field_pos = k * positive_part.q * (r_pos / (mag(r_pos)**3) )\n",
    "# elec_field_neg = k * negative_part.q * (r_neg / (mag(r_neg)**3) )\n",
    "#\n",
    "# total_elec_field = elec_field_pos + elec_field_neg\n",
    "#\n",
    "# # Make arrow\n",
    "# test_arrow = arrow(pos=vector(3,4,0), axis= (1*10**-8)*total_elec_field)\n",
    "\n",
    "\n",
    "# Define function to plot test particles\n",
    "\n",
    "def plot_test_particle(test_position):\n",
    "    sphere(pos=test_position, radius=0.1, color=color.red)\n",
    "\n",
    "    r_pos = test_position - positive_part.pos\n",
    "    r_neg = test_position - negative_part.pos\n",
    "\n",
    "    elec_field_pos = k * positive_part.q * (r_pos / (mag(r_pos) ** 3))\n",
    "    elec_field_neg = k * negative_part.q * (r_neg / (mag(r_neg) ** 3))\n",
    "\n",
    "    total_elec_field = elec_field_pos + elec_field_neg\n",
    "\n",
    "    arrow(pos=test_position, axis=(1 * 10 ** -8) * total_elec_field)\n",
    "\n",
    "\n",
    "plot_test_particle(vector(3, 4, 0))\n",
    "\n",
    "# Plot 16 arrows in the xy plane\n",
    "\n",
    "count = 1\n",
    "radius = 5\n",
    "theta = radians(360 / 16)\n",
    "\n",
    "while count < 16:\n",
    "    count += 1\n",
    "\n",
    "    # Plotting test charges in xy plane\n",
    "    position_xy = radius * vector(np.cos(theta), np.sin(theta), 0)\n",
    "    position_xy.x = radius * np.cos(theta*count)\n",
    "    position_xy.y = radius * np.sin(theta*count)\n",
    "\n",
    "    # Plotting test charges in xz plane\n",
    "    position_xz = radius * vector(np.cos(theta), 0, np.sin(theta))\n",
    "    position_xz.x = radius * np.cos(theta*count)\n",
    "    position_xz.z = radius * np.sin(theta*count)\n",
    "\n",
    "    plot_test_particle(position_xy)\n",
    "    plot_test_particle(position_xz)"
   ]
  },
  {
   "cell_type": "code",
   "execution_count": 72,
   "id": "da43e4d0",
   "metadata": {},
   "outputs": [],
   "source": [
    "#!pip install scipy"
   ]
  },
  {
   "cell_type": "code",
   "execution_count": 73,
   "id": "70112b8c",
   "metadata": {},
   "outputs": [],
   "source": [
    "import numpy as np\n",
    "from scipy import integrate\n",
    "import matplotlib.pyplot as plt "
   ]
  },
  {
   "cell_type": "code",
   "execution_count": 33,
   "id": "041cbe95",
   "metadata": {},
   "outputs": [],
   "source": [
    "def angle_dipole(t, theta, I, p, E):\n",
    "    # componentes\n",
    "    x, y, z = theta[0:3]\n",
    "    # velocidades (angulares)\n",
    "    vx, vy, vz = theta[3:6]\n",
    "    \n",
    "    # calcular aceleraciones\n",
    "    ax = p[0] * E[0] * np.sin(x) / I[0] if I[0] != 0 else 0\n",
    "    ay = p[1] * E[1] * np.sin(y) / I[1] if I[1] != 0 else 0\n",
    "    az = p[2] * E[2] * np.sin(z) / I[2] if I[2] != 0 else 0\n",
    "    \n",
    "    return [vx, vy, vz, ax, ay, az]\n",
    "\n",
    "def moment_inertia(n, l):\n",
    "    return np.array([m * l[0]**2, m * l[1]**2, m * l[2]**2]) / 12"
   ]
  },
  {
   "cell_type": "code",
   "execution_count": 160,
   "id": "681f4dc6",
   "metadata": {},
   "outputs": [],
   "source": [
    "tStart = 0\n",
    "tEnd = 103300\n",
    "\n",
    "ele = 0.05\n",
    "\n",
    "#k = 8.99e9   # constante de Coulomb\n",
    "q1 = 3e-6    # carga positiva en coulombs\n",
    "q2 = -q1     # carga negativa en coulombs\n",
    "m = 0.01     # masa del dipolo\n",
    "\n",
    "theta = np.array([np.pi/4, 0, 0])\n",
    "omega = np.array([0, 0, 0])\n",
    "\n",
    "r1 = np.array([(ele/2)*cos(theta[0]), (ele/2)*sin(theta[0]), 0])    # carga positva\n",
    "r2 = np.array([-(ele/2)*cos(theta[0]), -(ele/2)*sin(theta[0]), 0])  # carga negativa\n",
    "\n",
    "E = np.array([1e-5, 0, 0])  # solo hay en el eje x\n",
    "l = r2-r1\n",
    "p = l*q1\n",
    "\n",
    "I = moment_inertia(m, l)\n",
    "\n",
    "solution = integrate.solve_ivp(angle_dipole, \n",
    "                               [tStart, tEnd], [theta[0], theta[1], theta[2], omega[0], omega[1], omega[2]], \n",
    "                               method='RK45', t_eval=np.linspace(tStart, tEnd, 10001),\n",
    "                               args=(I, p, E))"
   ]
  },
  {
   "cell_type": "code",
   "execution_count": 106,
   "id": "9661f771",
   "metadata": {},
   "outputs": [
    {
     "data": {
      "text/plain": [
       "array([1.04166667e-06, 1.04166667e-06, 0.00000000e+00])"
      ]
     },
     "execution_count": 106,
     "metadata": {},
     "output_type": "execute_result"
    }
   ],
   "source": [
    "I"
   ]
  },
  {
   "cell_type": "code",
   "execution_count": 107,
   "id": "08e42710",
   "metadata": {},
   "outputs": [
    {
     "data": {
      "text/plain": [
       "  message: The solver successfully reached the end of the integration interval.\n",
       "  success: True\n",
       "   status: 0\n",
       "        t: [ 0.000e+00  1.000e-03 ...  1.000e+04  1.000e+04]\n",
       "        y: [[ 7.854e-01  7.854e-01 ... -7.560e-01 -7.560e-01]\n",
       "            [ 0.000e+00  0.000e+00 ...  0.000e+00  0.000e+00]\n",
       "            ...\n",
       "            [ 0.000e+00  0.000e+00 ...  0.000e+00  0.000e+00]\n",
       "            [ 0.000e+00  0.000e+00 ...  0.000e+00  0.000e+00]]\n",
       "      sol: None\n",
       " t_events: None\n",
       " y_events: None\n",
       "     nfev: 908\n",
       "     njev: 0\n",
       "      nlu: 0"
      ]
     },
     "execution_count": 107,
     "metadata": {},
     "output_type": "execute_result"
    }
   ],
   "source": [
    "solution"
   ]
  },
  {
   "cell_type": "code",
   "execution_count": 140,
   "id": "c19e9b8e",
   "metadata": {},
   "outputs": [
    {
     "data": {
      "text/plain": [
       "array([ 0.00000000e+00, -7.19999914e-07, -1.43999931e-06, ...,\n",
       "       -3.23984631e-05, -3.16961634e-05, -3.09938611e-05])"
      ]
     },
     "execution_count": 140,
     "metadata": {},
     "output_type": "execute_result"
    }
   ],
   "source": [
    "solution.y[3]"
   ]
  },
  {
   "cell_type": "code",
   "execution_count": 161,
   "id": "4aaf5c7a",
   "metadata": {},
   "outputs": [
    {
     "data": {
      "text/plain": [
       "[<matplotlib.lines.Line2D at 0x1ce70755ed0>]"
      ]
     },
     "execution_count": 161,
     "metadata": {},
     "output_type": "execute_result"
    },
    {
     "data": {
      "image/png": "[encoded data removed]",
      "text/plain": [
       "<Figure size 640x480 with 1 Axes>"
      ]
     },
     "metadata": {},
     "output_type": "display_data"
    }
   ],
   "source": [
    "plt.xlabel('Time t')\n",
    "plt.ylabel('Coordinates x and y')\n",
    "\n",
    "plt.plot(solution.t, solution.y[0], 'red')\n",
    "#plt.plot(solution.t, solution.y[3], 'blue')"
   ]
  },
  {
   "cell_type": "code",
   "execution_count": 176,
   "id": "4b046146",
   "metadata": {},
   "outputs": [
    {
     "data": {
      "text/html": [
       "<div id=\"glowscript\" class=\"glowscript\"></div>"
      ],
      "text/plain": [
       "<IPython.core.display.HTML object>"
      ]
     },
     "metadata": {},
     "output_type": "display_data"
    },
    {
     "data": {
      "application/javascript": [
       "if (typeof Jupyter !== \"undefined\") { window.__context = { glowscript_container: $(\"#glowscript\").removeAttr(\"id\")};}else{ element.textContent = ' ';}"
      ],
      "text/plain": [
       "<IPython.core.display.Javascript object>"
      ]
     },
     "metadata": {},
     "output_type": "display_data"
    }
   ],
   "source": [
    "scene3 = canvas(width=800, height=600, title='Dipolo en campo uniforme')"
   ]
  },
  {
   "cell_type": "code",
   "execution_count": 177,
   "id": "08dd2097",
   "metadata": {},
   "outputs": [],
   "source": [
    "\n",
    "r1_q1 = vector(r1[0], r1[1], r1[2])   # carga positva\n",
    "r2_q2 = vector(r2[0], r2[1], r2[2])   # carga negativa\n",
    "\n",
    "\n",
    "q1_sphere = sphere(pos=r1_q1, radius = 0.005, color=color.red)\n",
    "q2_sphere = sphere(pos=r2_q2, radius = 0.005, color=color.blue)\n",
    "line = cylinder(pos=r1_q1, radius=0.0015, axis=r2_q2, color=color.white)\n",
    "\n",
    "# placas\n",
    "box(pos=vector(-ele*2,0,0), size=vector(0.005,0.1,0.1), color=color.red)\n",
    "box(pos=vector(ele*2,0,0), size=vector(0.005,0.1,0.1), color=color.blue)\n",
    "# lineas de campo\n",
    "arrow(pos=vector(-ele*2,0.04,0), radius=0.0009, axis=2*vector(ele*2-0.0002,0,0), color=color.yellow, \n",
    "      shaftwidth=0.001, headwidth=0.005, headlength=0.01, opacity=0.5)\n",
    "arrow(pos=vector(-ele*2,0.04,-0.035), radius=0.0009, axis=2*vector(ele*2-0.0002,0,0), color=color.yellow, \n",
    "      shaftwidth=0.001, headwidth=0.005, headlength=0.01, opacity=0.5)\n",
    "arrow(pos=vector(-ele*2,0.04,0.035), radius=0.0009, axis=2*vector(ele*2-0.0002,0,0), color=color.yellow, \n",
    "      shaftwidth=0.001, headwidth=0.005, headlength=0.01, opacity=0.5)\n",
    "arrow(pos=vector(-ele*2,-0.04,0), radius=0.0009, axis=2*vector(ele*2-0.0002,0,0), color=color.yellow, \n",
    "      shaftwidth=0.001, headwidth=0.005, headlength=0.01, opacity=0.5)\n",
    "arrow(pos=vector(-ele*2,-0.04,-0.035), radius=0.0009, axis=2*vector(ele*2-0.0002,0,0), color=color.yellow, \n",
    "      shaftwidth=0.001, headwidth=0.005, headlength=0.01, opacity=0.5)\n",
    "arrow(pos=vector(-ele*2,-0.04,0.035), radius=0.0009, axis=2*vector(ele*2-0.0002,0,0), color=color.yellow, \n",
    "      shaftwidth=0.001, headwidth=0.005, headlength=0.01, opacity=0.5)\n",
    "\n",
    "i = 0\n",
    "for t in solution.t:\n",
    "    rate(500)\n",
    "\n",
    "    theta = solution.y[0][i]\n",
    "    q1_sphere.pos = vector((ele/2)*cos(theta), (ele/2)*sin(theta), 0)\n",
    "    q2_sphere.pos = vector(-(ele/2)*cos(theta), -(ele/2)*sin(theta),0)\n",
    "    line.pos = q1_sphere.pos\n",
    "    line.axis = 2*q2_sphere.pos\n",
    "\n",
    "    i += 1\n"
   ]
  },
  {
   "cell_type": "code",
   "execution_count": null,
   "id": "6880697f",
   "metadata": {},
   "outputs": [],
   "source": []
  }
 ],
 "metadata": {
  "kernelspec": {
   "display_name": "Python 3 (ipykernel)",
   "language": "python",
   "name": "python3"
  },
  "language_info": {
   "codemirror_mode": {
    "name": "ipython",
    "version": 3
   },
   "file_extension": ".py",
   "mimetype": "text/x-python",
   "name": "python",
   "nbconvert_exporter": "python",
   "pygments_lexer": "ipython3",
   "version": "3.10.8"
  }
 },
 "nbformat": 4,
 "nbformat_minor": 5
}
