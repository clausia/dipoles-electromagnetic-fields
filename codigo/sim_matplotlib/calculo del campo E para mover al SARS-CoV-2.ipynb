{
 "cells": [
  {
   "cell_type": "code",
   "execution_count": 1,
   "id": "047cc00c",
   "metadata": {},
   "outputs": [
    {
     "data": {
      "text/plain": [
       "269055235212342.66"
      ]
     },
     "execution_count": 1,
     "metadata": {},
     "output_type": "execute_result"
    }
   ],
   "source": [
    "# Datos conocidos\n",
    "momento_dipolar_debye = 23313.34  # Momento dipolar en Debye\n",
    "debye_to_coulomb_meter = 3.33564e-30  # Factor de conversión de Debye a Coulomb*meter\n",
    "momento_dipolar_coulomb_meter = momento_dipolar_debye * debye_to_coulomb_meter  # Momento dipolar en C*m\n",
    "\n",
    "# Estimación del tamaño y masa del SARS-CoV-2\n",
    "diametro_virus_m = 120e-9  # Diámetro del virus en metros (120 nm)\n",
    "volumen_virus_m3 = (4/3) * 3.1416 * (diametro_virus_m/2)**3  # Volumen del virus en m^3\n",
    "densidad_proteica_kg_m3 = 1300  # Densidad aproximada de una proteína en kg/m^3\n",
    "masa_virus_kg = densidad_proteica_kg_m3 * volumen_virus_m3  # Masa del virus en kg\n",
    "\n",
    "# Consideraciones adicionales\n",
    "# En aire, la resistencia y la inercia son menores que en un líquido, por lo que se espera una mayor movilidad del virus\n",
    "# La orientación del virus es variable, por lo que se considerará el promedio de las fuerzas experimentadas\n",
    "\n",
    "# Sin embargo, para calcular cómo un campo eléctrico uniforme afectaría el movimiento del virus, necesitamos una \n",
    "# estimación de la fuerza necesaria para mover el virus. Esta fuerza depende de la resistencia del aire y de la \n",
    "# inercia del virus.\n",
    "# Calcularemos la fuerza de Stokes, que es la fuerza de resistencia que experimenta una partícula esférica \n",
    "# pequeña que se mueve a través de un fluido viscoso, como una aproximación.\n",
    "\n",
    "viscosidad_aire_kg_ms = 18.5e-6  # Viscosidad del aire en kg/m*s a 25°C\n",
    "\n",
    "# Fuerza de Stokes: F = 6 * pi * viscosidad * radio_virus * velocidad\n",
    "# Para simplificar, asumiremos que la velocidad es 1 m/s para estimar la fuerza necesaria para mover el virus.\n",
    "velocidad_m_s = 1  # Velocidad en m/s\n",
    "fuerza_stokes_n = 6 * 3.1416 * viscosidad_aire_kg_ms * (diametro_virus_m/2) * velocidad_m_s\n",
    "\n",
    "# Con esta fuerza, podemos estimar el gradiente de campo eléctrico necesario.\n",
    "# F = mu * E, donde E es el campo eléctrico. Despejamos E: E = F / mu\n",
    "\n",
    "campo_electrico_necesario_v_m = fuerza_stokes_n / momento_dipolar_coulomb_meter\n",
    "campo_electrico_necesario_v_m"
   ]
  },
  {
   "cell_type": "code",
   "execution_count": null,
   "id": "96f67885",
   "metadata": {},
   "outputs": [],
   "source": []
  }
 ],
 "metadata": {
  "kernelspec": {
   "display_name": "Python 3 (ipykernel)",
   "language": "python",
   "name": "python3"
  },
  "language_info": {
   "codemirror_mode": {
    "name": "ipython",
    "version": 3
   },
   "file_extension": ".py",
   "mimetype": "text/x-python",
   "name": "python",
   "nbconvert_exporter": "python",
   "pygments_lexer": "ipython3",
   "version": "3.10.8"
  }
 },
 "nbformat": 4,
 "nbformat_minor": 5
}
