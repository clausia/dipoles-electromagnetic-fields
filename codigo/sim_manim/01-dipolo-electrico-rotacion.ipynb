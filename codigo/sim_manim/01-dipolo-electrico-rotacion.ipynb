{
 "cells": [
  {
   "cell_type": "code",
   "execution_count": 1,
   "metadata": {},
   "outputs": [
    {
     "data": {
      "text/html": [
       "<pre style=\"white-space:pre;overflow-x:auto;line-height:normal;font-family:Menlo,'DejaVu Sans Mono',consolas,'Courier New',monospace\">Manim Community <span style=\"color: #008000; text-decoration-color: #008000\">v0.17.2</span>\n",
       "\n",
       "</pre>\n"
      ],
      "text/plain": [
       "Manim Community \u001b[32mv0.\u001b[0m\u001b[32m17.2\u001b[0m\n",
       "\n"
      ]
     },
     "metadata": {},
     "output_type": "display_data"
    }
   ],
   "source": [
    "from manim import *\n",
    "\n",
    "config.media_width = \"100%\"\n",
    "_RV = \"-v WARNING -qm --progress_bar None --disable_caching Example\"\n",
    "_RI = \"-v WARNING -s --progress_bar None --disable_caching Example\""
   ]
  },
  {
   "cell_type": "markdown",
   "metadata": {},
   "source": [
    "## Creación de la clase `DipoloElectrico2D`"
   ]
  },
  {
   "cell_type": "code",
   "execution_count": 2,
   "metadata": {},
   "outputs": [],
   "source": [
    "class DipoloElectrico2D_v0(VMobject):\n",
    "\n",
    "    def __init__(self, angle):\n",
    "        super().__init__()\n",
    "        self.angle = angle\n",
    "        self.create()\n",
    "        \n",
    "    def create(self):\n",
    "        \n",
    "        linea = Line(LEFT * 0.8, RIGHT * 0.8, stroke_width=7)\n",
    "        linea.rotate(self.angle)\n",
    "        \n",
    "        #polo_positivo = Circle(radius=self.radius, color=RED).move_to(linea.get_end())\n",
    "        #polo_negativo = Circle(radius=self.radius, color=BLUE).move_to(linea.get_start())\n",
    "        \n",
    "        polo_positivo = Dot(color=RED).scale(3).move_to(linea.get_end())\n",
    "        polo_negativo = Dot(color=BLUE).scale(3).move_to(linea.get_start())\n",
    "        \n",
    "        linea.add(polo_positivo, polo_negativo)\n",
    "        \n",
    "        self.add(linea)\n"
   ]
  },
  {
   "cell_type": "code",
   "execution_count": 3,
   "metadata": {},
   "outputs": [
    {
     "name": "stdout",
     "output_type": "stream",
     "text": [
      "Frame rate: 30\n",
      "count: 902\n"
     ]
    },
    {
     "data": {
      "text/html": [
       "<video src=\"media\\jupyter\\Example@2023-03-26@17-53-59.mp4\" controls autoplay loop style=\"max-width: 100%;\"  >\n",
       "      Your browser does not support the <code>video</code> element.\n",
       "    </video>"
      ],
      "text/plain": [
       "<IPython.core.display.Video object>"
      ]
     },
     "metadata": {},
     "output_type": "display_data"
    }
   ],
   "source": [
    "TIME = 30\n",
    "\n",
    "class Example(Scene):\n",
    "\n",
    "    def construct(self):\n",
    "        \n",
    "        print(\"Frame rate:\", self.camera.frame_rate)\n",
    "\n",
    "        dipolo = DipoloElectrico2D_v0(PI/8)\n",
    "        dipolo.save_state()\n",
    "        dipolo._count = 0\n",
    "        \n",
    "        def dipolo_dinamica(mob, dt):\n",
    "            mob.restore()\n",
    "            mob.angle += dt\n",
    "            mob.rotate(mob.angle)\n",
    "            dipolo._count += 1\n",
    "            #print(\"dt=\", dt)\n",
    "            \n",
    "        dipolo.add_updater(dipolo_dinamica)\n",
    "        self.add(dipolo)\n",
    "        self.wait(TIME)\n",
    "        \n",
    "        print(\"count:\", dipolo._count)\n",
    "        \n",
    "\n",
    "%manim $_RV"
   ]
  },
  {
   "cell_type": "code",
   "execution_count": 4,
   "metadata": {},
   "outputs": [
    {
     "data": {
      "text/html": [
       "<video src=\"media\\jupyter\\Example@2023-03-26@17-54-08.mp4\" controls autoplay loop style=\"max-width: 100%;\"  >\n",
       "      Your browser does not support the <code>video</code> element.\n",
       "    </video>"
      ],
      "text/plain": [
       "<IPython.core.display.Video object>"
      ]
     },
     "metadata": {},
     "output_type": "display_data"
    }
   ],
   "source": [
    "class Example(Scene):\n",
    "\n",
    "    def construct(self):\n",
    "\n",
    "        dipolo1 = DipoloElectrico2D_v0(PI/8).shift(LEFT * 2)\n",
    "        dipolo1.save_state()\n",
    "        \n",
    "        dipolo2 = DipoloElectrico2D_v0(PI/3).shift(RIGHT * 2)\n",
    "        dipolo2.save_state()\n",
    "        \n",
    "        def dipolo_dinamica(mob, dt):\n",
    "            mob.restore()\n",
    "            mob.angle += dt\n",
    "            mob.rotate(mob.angle)\n",
    "\n",
    "        dipolo1.add_updater(dipolo_dinamica)\n",
    "        dipolo2.add_updater(dipolo_dinamica)\n",
    "        self.add(dipolo1, dipolo2)\n",
    "        self.wait(TIME)\n",
    "        \n",
    "\n",
    "%manim $_RV"
   ]
  },
  {
   "cell_type": "markdown",
   "metadata": {},
   "source": [
    "El diámetro de los virus va de $20 \\, nm$ a $500 \\, nm$ $\\left[20\\times 10^{-9}, 500\\times 10^{-9}\\right]$.\n",
    "\n",
    "El diámetro del coronavirus va de $40 \\, nm$ a $140 \\, nm$. $\\left[40\\times 10^{-9}, 140\\times 10^{-9}\\right]$.\n",
    "\n",
    "https://www.news-medical.net/health/The-Size-of-SARS-CoV-2-Compared-to-Other-Things.aspx"
   ]
  },
  {
   "cell_type": "code",
   "execution_count": 5,
   "metadata": {},
   "outputs": [],
   "source": [
    "from scipy import integrate"
   ]
  },
  {
   "cell_type": "code",
   "execution_count": 6,
   "metadata": {},
   "outputs": [],
   "source": [
    "class DipoloElectrico2D(VMobject):\n",
    "    \n",
    "\n",
    "    def __init__(self, angle, \n",
    "                 t_start=0, t_end=30, ele=140e-9, q=1.6e-19, m=1e-7, E=np.array([500e3, 0, 0]), \n",
    "                 longitud_escala=[40e-9, 140e-9], fps=30):\n",
    "        \n",
    "        super().__init__()\n",
    "        \n",
    "        self.angle = angle\n",
    "        self.t_start = t_start\n",
    "        self.t_end = t_end\n",
    "        self.ele = ele\n",
    "        self.q1 = q\n",
    "        self.q2 = -q\n",
    "        self.m = m\n",
    "        self.E = E\n",
    "        self.longitud_escala = longitud_escala\n",
    "        self.fps = int(fps)\n",
    "        \n",
    "        self.create()\n",
    "        self.calculate_dynamics()\n",
    "        \n",
    "    def create(self):\n",
    "        \n",
    "        longiud2 = self.escalar([self.ele], self.longitud_escala, [0.15, 0.8])[0]\n",
    "        stroke_w = self.escalar([self.ele], self.longitud_escala, [4, 9])[0]\n",
    "        scaledot = self.escalar([self.ele], self.longitud_escala, [1, 3])[0]\n",
    "        \n",
    "        linea = Line(LEFT * longiud2, RIGHT * longiud2, stroke_width=stroke_w) # 0.15 - 0.8, 4 - 9\n",
    "        \n",
    "        polo_positivo = Dot(color=RED).scale(scaledot).move_to(linea.get_end())    # 1 - 3\n",
    "        polo_negativo = Dot(color=BLUE).scale(scaledot).move_to(linea.get_start()) # 1 - 3\n",
    "        \n",
    "        linea.add(polo_positivo, polo_negativo)\n",
    "        \n",
    "        self.add(linea)\n",
    "\n",
    "    def calculate_dynamics(self):\n",
    "        \n",
    "        theta = np.array([self.angle, 0, 0])\n",
    "        omega = np.array([0, 0, 0])\n",
    "        \n",
    "        r1 = np.array([(self.ele/2)*np.cos(theta[0]), (self.ele/2)*np.sin(theta[0]), 0])    # carga positva\n",
    "        r2 = np.array([-(self.ele/2)*np.cos(theta[0]), -(self.ele/2)*np.sin(theta[0]), 0])  # carga negativa\n",
    "        \n",
    "        l = r2 - r1\n",
    "        p = l * self.q1\n",
    "        \n",
    "        I = self.momento_inercia_barra(self.m, l)\n",
    "        \n",
    "        self.solution = integrate.solve_ivp(self.angulo_dipolo, \n",
    "                                            [self.t_start, self.t_end], \n",
    "                                            [theta[0], theta[1], theta[2], omega[0], omega[1], omega[2]],\n",
    "                                            method='RK45', \n",
    "                                            t_eval=np.linspace(self.t_start, self.t_end, self.t_end * self.fps + 2),\n",
    "                                            args=(I, p, self.E)\n",
    "                                           )\n",
    "        \n",
    "    def angulo_dipolo(self, t, theta, I, p, E):\n",
    "    \n",
    "        # componentes\n",
    "        x, y, z = theta[0:3]\n",
    "        # velocidades (angulares)\n",
    "        vx, vy, vz = theta[3:6]\n",
    "\n",
    "        # calcular aceleraciones\n",
    "        ax = p[0] * E[0] * np.sin(x) / I[0] if I[0] != 0 else 0\n",
    "        ay = p[1] * E[1] * np.sin(y) / I[1] if I[1] != 0 else 0\n",
    "        az = p[2] * E[2] * np.sin(z) / I[2] if I[2] != 0 else 0\n",
    "\n",
    "        return [vx, vy, vz, ax, ay, az]\n",
    "\n",
    "\n",
    "    def momento_inercia_barra(self, n, l):\n",
    "\n",
    "        return np.array([self.m * l[0]**2, self.m * l[1]**2, self.m * l[2]**2]) / 12\n",
    "    \n",
    "    \n",
    "    def escalar(self, values, actual_bounds, desired_bounds):\n",
    "        return [\n",
    "            desired_bounds[0] + (x - actual_bounds[0]) * (desired_bounds[1] - desired_bounds[0])\n",
    "            / (actual_bounds[1] - actual_bounds[0]) \n",
    "            for x in values\n",
    "        ]"
   ]
  },
  {
   "cell_type": "code",
   "execution_count": 7,
   "metadata": {
    "scrolled": true
   },
   "outputs": [
    {
     "name": "stdout",
     "output_type": "stream",
     "text": [
      "self.camera.frame_rate = 30\n",
      "count: 902\n"
     ]
    },
    {
     "data": {
      "text/html": [
       "<video src=\"media\\jupyter\\Example@2023-03-26@17-54-17.mp4\" controls autoplay loop style=\"max-width: 100%;\"  >\n",
       "      Your browser does not support the <code>video</code> element.\n",
       "    </video>"
      ],
      "text/plain": [
       "<IPython.core.display.Video object>"
      ]
     },
     "metadata": {},
     "output_type": "display_data"
    }
   ],
   "source": [
    "TOTAL_TIME = 30\n",
    "\n",
    "            \n",
    "class Example(Scene):\n",
    "\n",
    "    def construct(self):\n",
    "        \n",
    "        print(\"self.camera.frame_rate =\", self.camera.frame_rate)\n",
    "        \n",
    "        initial_angle = PI/4\n",
    "\n",
    "        dipolo = DipoloElectrico2D(initial_angle, t_end=TOTAL_TIME, fps=self.camera.frame_rate, \n",
    "                                   E=np.array([500e3, 0, 0]), ele=140e-9)\n",
    "                                   #E=np.array([500e2, 0, 0]), ele=40e-9)\n",
    "        dipolo.save_state()\n",
    "        dipolo._counter = 0\n",
    "        \n",
    "        def dipolo_dinamica(mob, dt):\n",
    "            mob.restore()\n",
    "            mob.rotate(mob.solution.y[0][mob._counter])\n",
    "            mob._counter += 1\n",
    "            \n",
    "        dipolo.add_updater(dipolo_dinamica)\n",
    "        self.add(dipolo)\n",
    "        self.wait(TOTAL_TIME)\n",
    "        \n",
    "        print(\"count:\", dipolo._counter)\n",
    "        \n",
    "\n",
    "%manim $_RV"
   ]
  },
  {
   "cell_type": "code",
   "execution_count": 8,
   "metadata": {},
   "outputs": [],
   "source": [
    "#manim -v WARNING -qm --progress_bar None --disable_caching --fps=60 Example"
   ]
  },
  {
   "cell_type": "code",
   "execution_count": 9,
   "metadata": {},
   "outputs": [],
   "source": [
    "#manim -v WARNING -qm --progress_bar None --disable_caching --fps=15 Example"
   ]
  },
  {
   "cell_type": "code",
   "execution_count": 10,
   "metadata": {},
   "outputs": [],
   "source": [
    "dipolo_30 = DipoloElectrico2D(PI/8, t_end=TOTAL_TIME, fps=30)\n",
    "\n",
    "dipolo_60 = DipoloElectrico2D(PI/8, t_end=TOTAL_TIME, fps=60)"
   ]
  },
  {
   "cell_type": "code",
   "execution_count": 11,
   "metadata": {},
   "outputs": [
    {
     "data": {
      "text/plain": [
       "array([ 0.39269908,  0.37705412,  0.33134284,  0.2590323 ,  0.16567809,\n",
       "        0.05889955, -0.0526476 , -0.15992477, -0.25431722, -0.32805458,\n",
       "       -0.37548921, -0.39270555, -0.37852247, -0.33435286, -0.26334717,\n",
       "       -0.17079306, -0.0643137 ,  0.04725869,  0.15492831,  0.25005115,\n",
       "        0.32493142,  0.37376843,  0.3926323 ,  0.37994882,  0.3370069 ,\n",
       "        0.26720728,  0.17571107,  0.06971914, -0.04182729, -0.14993571])"
      ]
     },
     "execution_count": 11,
     "metadata": {},
     "output_type": "execute_result"
    }
   ],
   "source": [
    "dipolo_30.solution.y[0][0:30]"
   ]
  },
  {
   "cell_type": "code",
   "execution_count": 12,
   "metadata": {},
   "outputs": [
    {
     "data": {
      "text/plain": [
       "array([ 0.39269908,  0.3887649 ,  0.37703685,  0.3577463 ,  0.33127647,\n",
       "        0.2981165 ,  0.25889244,  0.21436964,  0.16545269,  0.11318149,\n",
       "        0.05859224,  0.00280786, -0.05301699, -0.10775817, -0.16032201,\n",
       "       -0.20964534, -0.25469547, -0.29449184, -0.32836131, -0.35561624,\n",
       "       -0.37567062, -0.38811449, -0.392714  , -0.38941133, -0.37832475,\n",
       "       -0.35972318, -0.33393152, -0.30139427, -0.26270243, -0.21859351,\n",
       "       -0.16995153, -0.11780699, -0.06333262, -0.00759068,  0.04830759,\n",
       "        0.10319288,  0.15595469,  0.20554122,  0.25095943,  0.29127503,\n",
       "        0.32562473,  0.35344134,  0.37416694,  0.38733694,  0.39266794,\n",
       "        0.39005777,  0.37958546,  0.36151127,  0.33624417,  0.30423541,\n",
       "        0.26607137,  0.22246705,  0.17426428,  0.12243162,  0.06806445,\n",
       "        0.01237628, -0.04355832, -0.09860148, -0.15159845, -0.2014765 ])"
      ]
     },
     "execution_count": 12,
     "metadata": {},
     "output_type": "execute_result"
    }
   ],
   "source": [
    "dipolo_60.solution.y[0][0:60]"
   ]
  },
  {
   "cell_type": "code",
   "execution_count": 13,
   "metadata": {},
   "outputs": [
    {
     "data": {
      "text/plain": [
       "902"
      ]
     },
     "execution_count": 13,
     "metadata": {},
     "output_type": "execute_result"
    }
   ],
   "source": [
    "a = np.linspace(0, 30, 30*30 + 2)   # start_time (0 sec), end_time (30 sec), quantity (30 sec * 30 fps)\n",
    "\n",
    "len(a)"
   ]
  },
  {
   "cell_type": "code",
   "execution_count": 14,
   "metadata": {},
   "outputs": [
    {
     "data": {
      "text/plain": [
       "array([0.0000000e+00, 1.0330000e+00, 2.0660000e+00, ..., 1.0327934e+04,\n",
       "       1.0328967e+04, 1.0330000e+04])"
      ]
     },
     "execution_count": 14,
     "metadata": {},
     "output_type": "execute_result"
    }
   ],
   "source": [
    "np.linspace(0, 10330, 10001)"
   ]
  },
  {
   "cell_type": "code",
   "execution_count": 15,
   "metadata": {},
   "outputs": [],
   "source": [
    "def normalizes(values, actual_bounds, desired_bounds):\n",
    "    return [\n",
    "        desired_bounds[0] + (x - actual_bounds[0]) * (desired_bounds[1] - desired_bounds[0])\n",
    "        / (actual_bounds[1] - actual_bounds[0]) \n",
    "        for x in values\n",
    "    ]"
   ]
  },
  {
   "cell_type": "code",
   "execution_count": 16,
   "metadata": {},
   "outputs": [
    {
     "data": {
      "text/plain": [
       "[0.4808075, 0.43080805, 0.48458, 0.35861082499999997]"
      ]
     },
     "execution_count": 16,
     "metadata": {},
     "output_type": "execute_result"
    }
   ],
   "source": [
    "normalizes(\n",
    "    [0.92323, 0.7232322, 0.93832, 0.4344433],\n",
    "    (0, 1),\n",
    "    (0.25, 0.5)\n",
    ")"
   ]
  },
  {
   "cell_type": "markdown",
   "metadata": {},
   "source": [
    "-------------------"
   ]
  },
  {
   "cell_type": "markdown",
   "metadata": {},
   "source": [
    "### Validación de la animación: mover 90 grados durante 10 segundos y generar con diferentes valores de fps"
   ]
  },
  {
   "cell_type": "code",
   "execution_count": 17,
   "metadata": {},
   "outputs": [],
   "source": [
    "class DipoloElectrico2DTest(VMobject):\n",
    "\n",
    "    def __init__(self, angle):\n",
    "        super().__init__()\n",
    "        self.angle = angle\n",
    "        self.create()\n",
    "        \n",
    "    def create(self):\n",
    "        \n",
    "        linea = Line(LEFT * 0.8, RIGHT * 0.8, stroke_width=7)\n",
    "        linea.rotate(self.angle)\n",
    "        \n",
    "        polo_positivo = Dot(color=RED).scale(3).move_to(linea.get_end())\n",
    "        polo_negativo = Dot(color=BLUE).scale(3).move_to(linea.get_start())\n",
    "        \n",
    "        linea.add(polo_positivo, polo_negativo)\n",
    "        \n",
    "        self.add(linea)\n"
   ]
  },
  {
   "cell_type": "code",
   "execution_count": 18,
   "metadata": {},
   "outputs": [],
   "source": [
    "TIME = 10\n",
    "\n",
    "class ExampleTest(Scene):\n",
    "\n",
    "    def construct(self):\n",
    "        \n",
    "        print(\"Frame rate:\", self.camera.frame_rate)\n",
    "\n",
    "        dipolo = DipoloElectrico2DTest(0)\n",
    "        dipolo.save_state()\n",
    "        \n",
    "        dAngle = (PI/2) / (self.camera.frame_rate * TIME)\n",
    "        \n",
    "        def dipolo_dinamica(mob, dt):\n",
    "            #print(\"mob.angle=\", mob.angle)\n",
    "            mob.restore()\n",
    "            mob.angle += dAngle\n",
    "            mob.rotate(mob.angle)\n",
    "            #print(\"dt=\", dt)\n",
    "            \n",
    "        dipolo.add_updater(dipolo_dinamica)\n",
    "        self.add(dipolo)\n",
    "        self.wait(TIME)"
   ]
  },
  {
   "cell_type": "code",
   "execution_count": 19,
   "metadata": {},
   "outputs": [
    {
     "name": "stdout",
     "output_type": "stream",
     "text": [
      "Frame rate: 15.0\n"
     ]
    },
    {
     "data": {
      "text/html": [
       "<video src=\"media\\jupyter\\ExampleTest@2023-03-26@17-54-19.mp4\" controls autoplay loop style=\"max-width: 100%;\"  >\n",
       "      Your browser does not support the <code>video</code> element.\n",
       "    </video>"
      ],
      "text/plain": [
       "<IPython.core.display.Video object>"
      ]
     },
     "metadata": {},
     "output_type": "display_data"
    }
   ],
   "source": [
    "manim -v WARNING -qm --progress_bar None --disable_caching --fps=15 ExampleTest"
   ]
  },
  {
   "cell_type": "code",
   "execution_count": 20,
   "metadata": {},
   "outputs": [
    {
     "name": "stdout",
     "output_type": "stream",
     "text": [
      "Frame rate: 30.0\n"
     ]
    },
    {
     "data": {
      "text/html": [
       "<video src=\"media\\jupyter\\ExampleTest@2023-03-26@17-54-22.mp4\" controls autoplay loop style=\"max-width: 100%;\"  >\n",
       "      Your browser does not support the <code>video</code> element.\n",
       "    </video>"
      ],
      "text/plain": [
       "<IPython.core.display.Video object>"
      ]
     },
     "metadata": {},
     "output_type": "display_data"
    }
   ],
   "source": [
    "manim -v WARNING -qm --progress_bar None --disable_caching --fps=30 ExampleTest"
   ]
  },
  {
   "cell_type": "code",
   "execution_count": 21,
   "metadata": {},
   "outputs": [
    {
     "name": "stdout",
     "output_type": "stream",
     "text": [
      "Frame rate: 60.0\n"
     ]
    },
    {
     "data": {
      "text/html": [
       "<video src=\"media\\jupyter\\ExampleTest@2023-03-26@17-54-28.mp4\" controls autoplay loop style=\"max-width: 100%;\"  >\n",
       "      Your browser does not support the <code>video</code> element.\n",
       "    </video>"
      ],
      "text/plain": [
       "<IPython.core.display.Video object>"
      ]
     },
     "metadata": {},
     "output_type": "display_data"
    }
   ],
   "source": [
    "manim -v WARNING -qm --progress_bar None --disable_caching --fps=60 ExampleTest"
   ]
  },
  {
   "cell_type": "code",
   "execution_count": 22,
   "metadata": {},
   "outputs": [
    {
     "name": "stdout",
     "output_type": "stream",
     "text": [
      "Frame rate: 90.0\n"
     ]
    },
    {
     "data": {
      "text/html": [
       "<video src=\"media\\jupyter\\ExampleTest@2023-03-26@17-54-36.mp4\" controls autoplay loop style=\"max-width: 100%;\"  >\n",
       "      Your browser does not support the <code>video</code> element.\n",
       "    </video>"
      ],
      "text/plain": [
       "<IPython.core.display.Video object>"
      ]
     },
     "metadata": {},
     "output_type": "display_data"
    }
   ],
   "source": [
    "manim -v WARNING -qm --progress_bar None --disable_caching --fps=90 ExampleTest"
   ]
  },
  {
   "cell_type": "code",
   "execution_count": 23,
   "metadata": {},
   "outputs": [
    {
     "name": "stdout",
     "output_type": "stream",
     "text": [
      "Frame rate: 120.0\n"
     ]
    },
    {
     "data": {
      "text/html": [
       "<video src=\"media\\jupyter\\ExampleTest@2023-03-26@17-54-46.mp4\" controls autoplay loop style=\"max-width: 100%;\"  >\n",
       "      Your browser does not support the <code>video</code> element.\n",
       "    </video>"
      ],
      "text/plain": [
       "<IPython.core.display.Video object>"
      ]
     },
     "metadata": {},
     "output_type": "display_data"
    }
   ],
   "source": [
    "manim -v WARNING -qm --progress_bar None --disable_caching --fps=120 ExampleTest"
   ]
  },
  {
   "cell_type": "markdown",
   "metadata": {},
   "source": [
    "---------------------"
   ]
  },
  {
   "cell_type": "markdown",
   "metadata": {},
   "source": [
    "## Creación de la clase `Placas2D`"
   ]
  },
  {
   "cell_type": "code",
   "execution_count": 24,
   "metadata": {},
   "outputs": [],
   "source": [
    "class Placas2D(VMobject):\n",
    "\n",
    "    def __init__(self, ancho=0.5):\n",
    "        super().__init__()\n",
    "        self.ancho = ancho\n",
    "        self.create()\n",
    "        \n",
    "    def create(self):\n",
    "        \n",
    "        placa_positiva = Rectangle(width=self.ancho, height=7.5, color=RED_B)\\\n",
    "                         .set_fill(RED_E, 1).move_to(LEFT * (7.0 - self.ancho))\n",
    "        placa_negativa = Rectangle(width=self.ancho, height=7.5, color=BLUE)\\\n",
    "                         .set_fill(BLUE_E, 1).move_to(RIGHT * (7.0 - self.ancho))\n",
    "        \n",
    "        self.add(placa_positiva, placa_negativa)\n"
   ]
  },
  {
   "cell_type": "code",
   "execution_count": 25,
   "metadata": {},
   "outputs": [
    {
     "data": {
      "text/html": [
       "<video src=\"media\\jupyter\\Example@2023-03-26@17-54-49.mp4\" controls autoplay loop style=\"max-width: 100%;\"  >\n",
       "      Your browser does not support the <code>video</code> element.\n",
       "    </video>"
      ],
      "text/plain": [
       "<IPython.core.display.Video object>"
      ]
     },
     "metadata": {},
     "output_type": "display_data"
    }
   ],
   "source": [
    "TOTAL_TIME = 30\n",
    "\n",
    "            \n",
    "class Example(Scene):\n",
    "\n",
    "    def construct(self):\n",
    "        \n",
    "        #print(\"self.camera.frame_rate =\", self.camera.frame_rate)\n",
    "        \n",
    "        placas = Placas2D(ancho=0.4)\n",
    "        \n",
    "        initial_angle = PI/4\n",
    "\n",
    "        dipolo = DipoloElectrico2D(initial_angle, t_end=TOTAL_TIME, fps=self.camera.frame_rate, \n",
    "                                   E=np.array([500e3, 0, 0]), ele=140e-9)\n",
    "                                   #E=np.array([500e2, 0, 0]), ele=40e-9)\n",
    "        dipolo.save_state()\n",
    "        dipolo._counter = 0\n",
    "        \n",
    "        def dipolo_dinamica(mob, dt):\n",
    "            mob.restore()\n",
    "            mob.rotate(mob.solution.y[0][mob._counter])\n",
    "            mob._counter += 1\n",
    "            \n",
    "        dipolo.add_updater(dipolo_dinamica)\n",
    "        self.add(dipolo, placas)\n",
    "        self.wait(TIME)\n",
    "        \n",
    "        #print(\"count:\", dipolo._counter)\n",
    "        \n",
    "\n",
    "%manim $_RV"
   ]
  },
  {
   "cell_type": "markdown",
   "metadata": {},
   "source": [
    "--------------------"
   ]
  },
  {
   "cell_type": "markdown",
   "metadata": {},
   "source": [
    "## Creación de varios dipolos en ubicaciones random"
   ]
  },
  {
   "cell_type": "code",
   "execution_count": 26,
   "metadata": {},
   "outputs": [],
   "source": [
    "from random import uniform"
   ]
  },
  {
   "cell_type": "code",
   "execution_count": 27,
   "metadata": {},
   "outputs": [
    {
     "data": {
      "text/html": [
       "<video src=\"media\\jupyter\\Example@2023-03-26@17-55-34.mp4\" controls autoplay loop style=\"max-width: 100%;\"  >\n",
       "      Your browser does not support the <code>video</code> element.\n",
       "    </video>"
      ],
      "text/plain": [
       "<IPython.core.display.Video object>"
      ]
     },
     "metadata": {},
     "output_type": "display_data"
    }
   ],
   "source": [
    "TOTAL_TIME = 30\n",
    "\n",
    "            \n",
    "class Example(Scene):\n",
    "\n",
    "    def construct(self):\n",
    "        \n",
    "        ANCHO_PLACAS = 0.2\n",
    "        OFFSET_COORD_X = 0.5\n",
    "        OFFSET_COORD_Y = 0.4\n",
    "        CANTIDAD_DE_DIPOLOS = 40\n",
    "        \n",
    "        placas = Placas2D(ancho=ANCHO_PLACAS)\n",
    "        \n",
    "        def dipolo_dinamica(mob, dt):\n",
    "            mob.restore()\n",
    "            mob.rotate(mob.solution.y[0][mob._counter])\n",
    "            mob._counter += 1\n",
    "        \n",
    "        def crear_dipolo():\n",
    "            dipolo = DipoloElectrico2D(uniform(-PI/2, PI/2),                          #initial_angle\n",
    "                                       t_end=TOTAL_TIME, fps=self.camera.frame_rate, \n",
    "                                       E=np.array([500e2, 0, 0]), ele=40e-9)\n",
    "            dipolo.move_to([\n",
    "                uniform(-config.frame_x_radius + ANCHO_PLACAS + OFFSET_COORD_X, \n",
    "                         config.frame_x_radius - ANCHO_PLACAS - OFFSET_COORD_X),      # coordenada X\n",
    "                uniform(-config.frame_y_radius + OFFSET_COORD_Y, \n",
    "                         config.frame_y_radius - OFFSET_COORD_Y),                     # coordenada Y\n",
    "                0,                                                                    # coordenada Z\n",
    "            ])\n",
    "            dipolo.save_state()\n",
    "            dipolo._counter = 0\n",
    "            dipolo.add_updater(dipolo_dinamica)\n",
    "            return dipolo\n",
    "        \n",
    "        random_dipolos = VGroup(*[\n",
    "            crear_dipolo()\n",
    "            for _ in range(CANTIDAD_DE_DIPOLOS)\n",
    "        ])\n",
    "            \n",
    "        self.add(random_dipolos, placas)\n",
    "        self.wait(TOTAL_TIME)\n",
    "        \n",
    "\n",
    "%manim $_RV"
   ]
  },
  {
   "cell_type": "code",
   "execution_count": 28,
   "metadata": {},
   "outputs": [
    {
     "data": {
      "text/html": [
       "<video src=\"media\\jupyter\\Example@2023-03-26@17-56-49.mp4\" controls autoplay loop style=\"max-width: 100%;\"  >\n",
       "      Your browser does not support the <code>video</code> element.\n",
       "    </video>"
      ],
      "text/plain": [
       "<IPython.core.display.Video object>"
      ]
     },
     "metadata": {},
     "output_type": "display_data"
    }
   ],
   "source": [
    "TOTAL_TIME = 30\n",
    "\n",
    "            \n",
    "class Example(Scene):\n",
    "\n",
    "    def construct(self):\n",
    "        \n",
    "        ANCHO_PLACAS = 0.2\n",
    "        OFFSET_COORD_X = 0.5\n",
    "        OFFSET_COORD_Y = 0.4\n",
    "        CANTIDAD_DE_DIPOLOS = 40\n",
    "        \n",
    "        time = DecimalNumber(0, unit=\"s\", edge_to_fix=RIGHT).to_corner(UR)\n",
    "        time.add_updater(lambda mob, dt: mob.set_value(self.renderer.time))\n",
    "        \n",
    "        placas = Placas2D(ancho=ANCHO_PLACAS)\n",
    "        \n",
    "        def dipolo_dinamica(mob, dt):\n",
    "            mob.restore()\n",
    "            mob.rotate(mob.solution.y[0][mob._counter])\n",
    "            mob._counter += 1\n",
    "        \n",
    "        def crear_dipolo():\n",
    "            dipolo = DipoloElectrico2D(uniform(-PI/2, PI/2),                          #initial_angle\n",
    "                                       t_end=TOTAL_TIME, fps=self.camera.frame_rate, \n",
    "                                       E=np.array([500e2, 0, 0]), ele=40e-9)\n",
    "            dipolo.move_to([\n",
    "                uniform(-config.frame_x_radius + ANCHO_PLACAS + OFFSET_COORD_X, \n",
    "                         config.frame_x_radius - ANCHO_PLACAS - OFFSET_COORD_X),      # coordenada X\n",
    "                uniform(-config.frame_y_radius + OFFSET_COORD_Y, \n",
    "                         config.frame_y_radius - OFFSET_COORD_Y),                     # coordenada Y\n",
    "                0,                                                                    # coordenada Z\n",
    "            ])\n",
    "            dipolo.save_state()\n",
    "            dipolo._counter = 0\n",
    "            dipolo.add_updater(dipolo_dinamica)\n",
    "            return dipolo\n",
    "        \n",
    "        random_dipolos = VGroup(*[\n",
    "            crear_dipolo()\n",
    "            for _ in range(CANTIDAD_DE_DIPOLOS)\n",
    "        ])\n",
    "            \n",
    "        self.add(random_dipolos, placas, time)\n",
    "        self.wait(TOTAL_TIME)\n",
    "        \n",
    "\n",
    "%manim $_RV"
   ]
  },
  {
   "cell_type": "markdown",
   "metadata": {},
   "source": [
    "## Preguntas al chatGPT"
   ]
  },
  {
   "cell_type": "code",
   "execution_count": 29,
   "metadata": {},
   "outputs": [
    {
     "data": {
      "image/png": "[encoded data removed]",
      "text/plain": [
       "<Figure size 640x480 with 1 Axes>"
      ]
     },
     "metadata": {},
     "output_type": "display_data"
    }
   ],
   "source": [
    "import numpy as np\n",
    "import matplotlib.pyplot as plt\n",
    "\n",
    "# Define constants\n",
    "epsilon_0 = 8.85e-12   # vacuum permittivity\n",
    "Q = 1e-6               # charge on sphere\n",
    "a = 0.1                # radius of sphere\n",
    "\n",
    "# Define the distance from the center of the sphere\n",
    "r = np.linspace(a, 2*a, 100)\n",
    "\n",
    "# Calculate the electric field using the Coulomb's law\n",
    "E = Q / (4 * np.pi * epsilon_0 * r**2)\n",
    "\n",
    "# Plot the electric field as a function of distance from the center of the sphere\n",
    "plt.plot(r, E)\n",
    "plt.xlabel('Distance from center of sphere (m)')\n",
    "plt.ylabel('Electric field (N/C)')\n",
    "plt.show()\n"
   ]
  },
  {
   "cell_type": "code",
   "execution_count": 30,
   "metadata": {},
   "outputs": [
    {
     "name": "stdout",
     "output_type": "stream",
     "text": [
      "Electric field direction: [0.26726124 0.53452248 0.80178373]\n"
     ]
    }
   ],
   "source": [
    "import numpy as np\n",
    "\n",
    "# Define a point in space where we want to calculate the electric field direction\n",
    "r_point = np.array([1, 2, 3])  # x, y, z coordinates\n",
    "\n",
    "# Define the center of the sphere\n",
    "r_center = np.array([0, 0, 0])  # x, y, z coordinates\n",
    "\n",
    "# Calculate the direction of the electric field vector\n",
    "e_field_dir = (r_point - r_center) / np.linalg.norm(r_point - r_center)\n",
    "\n",
    "print(\"Electric field direction:\", e_field_dir)\n"
   ]
  },
  {
   "cell_type": "code",
   "execution_count": 31,
   "metadata": {},
   "outputs": [
    {
     "name": "stdout",
     "output_type": "stream",
     "text": [
      "Final position of the dipole: 1e-06 0.0 0.0\n"
     ]
    }
   ],
   "source": [
    "import numpy as np\n",
    "\n",
    "# Define the electric field vector and its magnitude\n",
    "E_mag = 1e-6  # N/C\n",
    "E_dir = np.array([1, 0, 0])  # x, y, z components\n",
    "\n",
    "# Define the dipole moment vector and its magnitude\n",
    "q = 1e-9  # C\n",
    "d = 1e-6  # m\n",
    "p = 2 * q * d * np.array([1, 0, 0])  # dipole moment vector\n",
    "\n",
    "# Define the moment of inertia of the dipole\n",
    "I = 1/12 * (2*q*d)**2  # assuming two point charges\n",
    "\n",
    "# Calculate the torque on the dipole\n",
    "tau = np.cross(p, E_mag * E_dir)\n",
    "\n",
    "# Calculate the angular acceleration of the dipole\n",
    "alpha = tau / I\n",
    "\n",
    "# Integrate the angular acceleration twice to obtain the position of the dipole\n",
    "t = np.linspace(0, 1, 100)  # time array\n",
    "theta_0 = 0  # initial angle\n",
    "omega_0 = 0  # initial angular velocity\n",
    "\n",
    "theta = theta_0 + omega_0 * t + 1/2 * alpha[0] * t**2\n",
    "x = d * np.cos(theta)\n",
    "y = d * np.sin(theta)\n",
    "z = np.zeros_like(x)\n",
    "\n",
    "# Print the position of the dipole at the final time\n",
    "print(\"Final position of the dipole:\", x[-1], y[-1], z[-1])\n"
   ]
  },
  {
   "cell_type": "markdown",
   "metadata": {},
   "source": [
    "### How do I represent in python a radial electric field generated by a sphere?\n",
    "\n",
    "To represent the radial electric field generated by a sphere in Python, you can use the following code:\n",
    "\n",
    "```python\n",
    "import numpy as np\n",
    "import matplotlib.pyplot as plt\n",
    "\n",
    "# Define constants\n",
    "epsilon_0 = 8.85e-12   # vacuum permittivity\n",
    "Q = 1e-6               # charge on sphere\n",
    "a = 0.1                # radius of sphere\n",
    "\n",
    "# Define the distance from the center of the sphere\n",
    "r = np.linspace(a, 2*a, 100)\n",
    "\n",
    "# Calculate the electric field using the Coulomb's law\n",
    "E = Q / (4 * np.pi * epsilon_0 * r**2)\n",
    "\n",
    "# Plot the electric field as a function of distance from the center of the sphere\n",
    "plt.plot(r, E)\n",
    "plt.xlabel('Distance from center of sphere (m)')\n",
    "plt.ylabel('Electric field (N/C)')\n",
    "plt.show()\n",
    "```\n",
    "\n",
    "In this code, we first import the necessary libraries, numpy and matplotlib. Then we define the constants, including the vacuum permittivity, the charge on the sphere, and the radius of the sphere. Next, we define an array of distances from the center of the sphere using np.linspace(). We then calculate the electric field at each distance using Coulomb's law, and plot the resulting electric field as a function of distance using plt.plot(). Finally, we add axis labels and display the plot using plt.show().\n",
    "\n",
    "\n",
    "\n",
    "### How can I calculate the direction of said electric field?\n",
    "\n",
    "The electric field generated by a positively charged sphere is radial, which means it points outward in all directions away from the center of the sphere.\n",
    "\n",
    "In Python, you can calculate the direction of the electric field vector using vector algebra. For example, you can define a vector in the direction of the radial electric field as:\n",
    "\n",
    "```python\n",
    "import numpy as np\n",
    "\n",
    "# Define a point in space where we want to calculate the electric field direction\n",
    "r_point = np.array([1, 2, 3])  # x, y, z coordinates\n",
    "\n",
    "# Define the center of the sphere\n",
    "r_center = np.array([0, 0, 0])  # x, y, z coordinates\n",
    "\n",
    "# Calculate the direction of the electric field vector\n",
    "e_field_dir = (r_point - r_center) / np.linalg.norm(r_point - r_center)\n",
    "\n",
    "print(\"Electric field direction:\", e_field_dir)\n",
    "```\n",
    "\n",
    "In this code, we define a point in space r_point where we want to calculate the direction of the electric field. We also define the center of the sphere r_center. We then calculate the vector pointing from the center of the sphere to the point in space using r_point - r_center, and divide it by its magnitude to obtain a unit vector pointing in the direction of the electric field. Finally, we print the electric field direction using print().\n",
    "\n",
    "\n",
    "\n",
    "### Given the value of the electric field and its direction in some point, how can I calculate the traslation of an electric dipole that it is located in that point?\n",
    "\n",
    "To calculate the translation of an electric dipole located at a given point in the presence of an electric field with a known magnitude and direction, you can use the following steps:\n",
    "\n",
    "1. Calculate the electric dipole moment vector. The electric dipole moment is given by the product of the magnitude of the charge on the dipole and the distance between the charges, multiplied by a unit vector in the direction from the negative to the positive charge. If the charges have equal magnitude and opposite sign, the dipole moment is simply twice the magnitude of one of the charges times the distance between them, multiplied by the unit vector.\n",
    "\n",
    "2. Calculate the torque acting on the dipole. The torque is given by the cross product of the dipole moment vector and the electric field vector.\n",
    "\n",
    "3. Calculate the angular acceleration of the dipole. The angular acceleration is given by the torque divided by the moment of inertia of the dipole.\n",
    "\n",
    "4. Integrate the angular acceleration twice to obtain the position of the dipole as a function of time.\n",
    "\n",
    "Here is an example Python code that implements these steps:\n",
    "\n",
    "```python\n",
    "import numpy as np\n",
    "\n",
    "# Define the electric field vector and its magnitude\n",
    "E_mag = 1e-6  # N/C\n",
    "E_dir = np.array([1, 0, 0])  # x, y, z components\n",
    "\n",
    "# Define the dipole moment vector and its magnitude\n",
    "q = 1e-9  # C\n",
    "d = 1e-6  # m\n",
    "p = 2 * q * d * np.array([1, 0, 0])  # dipole moment vector\n",
    "\n",
    "# Define the moment of inertia of the dipole\n",
    "I = 1/12 * (2*q*d)**2  # assuming two point charges\n",
    "\n",
    "# Calculate the torque on the dipole\n",
    "tau = np.cross(p, E_mag * E_dir)\n",
    "\n",
    "# Calculate the angular acceleration of the dipole\n",
    "alpha = tau / I\n",
    "\n",
    "# Integrate the angular acceleration twice to obtain the position of the dipole\n",
    "t = np.linspace(0, 1, 100)  # time array\n",
    "theta_0 = 0  # initial angle\n",
    "omega_0 = 0  # initial angular velocity\n",
    "\n",
    "theta = theta_0 + omega_0 * t + 1/2 * alpha[0] * t**2\n",
    "x = d * np.cos(theta)\n",
    "y = d * np.sin(theta)\n",
    "z = np.zeros_like(x)\n",
    "\n",
    "# Print the position of the dipole at the final time\n",
    "print(\"Final position of the dipole:\", x[-1], y[-1], z[-1])\n",
    "```\n",
    "\n",
    "In this code, we first define the electric field vector and its magnitude, and the dipole moment vector and its magnitude. We also calculate the moment of inertia of the dipole assuming two point charges. We then calculate the torque acting on the dipole, and the angular acceleration of the dipole. We integrate the angular acceleration twice using the initial conditions of the dipole (initial angle and angular velocity both equal to zero) and a time array, to obtain the position of the dipole as a function of time. Finally, we print the final position of the dipole at the end of the time array. Note that this is a simple example and assumes a dipole of fixed orientation, so the translation of the dipole will depend on the orientation of the dipole relative to the electric field."
   ]
  },
  {
   "cell_type": "code",
   "execution_count": null,
   "metadata": {},
   "outputs": [],
   "source": []
  }
 ],
 "metadata": {
  "kernelspec": {
   "display_name": "Python 3 (ipykernel)",
   "language": "python",
   "name": "python3"
  },
  "language_info": {
   "codemirror_mode": {
    "name": "ipython",
    "version": 3
   },
   "file_extension": ".py",
   "mimetype": "text/x-python",
   "name": "python",
   "nbconvert_exporter": "python",
   "pygments_lexer": "ipython3",
   "version": "3.10.9"
  }
 },
 "nbformat": 4,
 "nbformat_minor": 1
}
